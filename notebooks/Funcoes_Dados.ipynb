{
  "nbformat": 4,
  "nbformat_minor": 0,
  "metadata": {
    "colab": {
      "name": "Untitled12.ipynb",
      "provenance": [],
      "authorship_tag": "ABX9TyOwRCDId6/gY63HKLRgKlBW",
      "include_colab_link": true
    },
    "kernelspec": {
      "name": "python3",
      "display_name": "Python 3"
    },
    "language_info": {
      "name": "python"
    }
  },
  "cells": [
    {
      "cell_type": "markdown",
      "metadata": {
        "id": "view-in-github",
        "colab_type": "text"
      },
      "source": [
        "<a href=\"https://colab.research.google.com/github/ViniciusCastillo/BootcampAlura_ProjetoModulo3/blob/main/notebooks/Funcoes_Dados.ipynb\" target=\"_parent\"><img src=\"https://colab.research.google.com/assets/colab-badge.svg\" alt=\"Open In Colab\"/></a>"
      ]
    },
    {
      "cell_type": "markdown",
      "source": [
        "# Criação de Funções e Dados Auxiliares\n",
        "\n",
        "Neste notebook temos as funções que serão utilizadas no notebook de análise e projeção, bem como alguns dados auxiliares"
      ],
      "metadata": {
        "id": "M_JPr3gnhBms"
      }
    },
    {
      "cell_type": "markdown",
      "source": [
        "## Importanto bibliotecas que serão utilizadas"
      ],
      "metadata": {
        "id": "PTD5X7oFhq2S"
      }
    },
    {
      "cell_type": "code",
      "execution_count": 381,
      "metadata": {
        "id": "keuezqRpfnNg"
      },
      "outputs": [],
      "source": [
        "import pandas as pd\n",
        "import numpy as np\n",
        "import matplotlib as mpl\n",
        "import matplotlib.pyplot as plt\n",
        "from sklearn.metrics import mean_absolute_error\n",
        "from sklearn.metrics import mean_squared_error\n",
        "from sklearn.metrics import mean_absolute_percentage_error\n",
        "from fbprophet import Prophet\n",
        "from fbprophet.plot import add_changepoints_to_plot\n",
        "from fbprophet.diagnostics import cross_validation\n",
        "from fbprophet.diagnostics import performance_metrics\n",
        "from fbprophet.plot import plot_cross_validation_metric\n",
        "# configurando formato de apresentação de números\n",
        "pd.options.display.float_format = \"{:,.2f}\".format"
      ]
    },
    {
      "cell_type": "markdown",
      "source": [
        "## **Funções**"
      ],
      "metadata": {
        "id": "8muGuDuqhs7A"
      }
    },
    {
      "cell_type": "markdown",
      "source": [
        "### Função <font color='blue'>metricas</font><font size=3>(df_real, df_previsto, titulo)</font>\n",
        "####Cálcula as métricas de comparação entre o dataframe real e o previsto"
      ],
      "metadata": {
        "id": "m0ao9lP9h5MJ"
      }
    },
    {
      "cell_type": "markdown",
      "source": [
        "##### **Entradas e Saídas**\n",
        "\n",
        "Informações de entrada:\n",
        "* <font color='green'>df_real</font>: data frame real\n",
        "* <font color='green'>df_previsto</font>: data frame previsto\n",
        "* <font color='green'>titulo</font>: titulo da comparação que será realizada\n",
        "\n",
        "Saídas:\n",
        "* Printa o <font color='green'>título</font> da comparação, depois o resultado de 3 métricas:\n",
        "> 1. **MAE**: Mean Absolute Error\n",
        "> 1. **RMSE**: Root Mean Squared Error\n",
        "> 1. **MAPE**: Mean Absolute Percentage Error\n",
        "\n",
        "* Está função não retorna nenhum valor"
      ],
      "metadata": {
        "id": "_xgW35MLjteV"
      }
    },
    {
      "cell_type": "code",
      "source": [
        "def metricas (df_real, df_previsto, titulo):\n",
        "  print (\"\\n\"+ titulo)\n",
        "  print (\"Mean Absolute Error: %.2f\" % mean_absolute_error(df_real['y'], df_previsto['yhat']))\n",
        "  print (\"Root Mean Squared Error: {:,.2f}\".format(mean_squared_error(df_real['y'], df_previsto['yhat'])))\n",
        "  print (\"Mean Absolute Percentage Error: {:,.2f}\".format(mean_absolute_percentage_error(df_real['y'], df_previsto['yhat'])))"
      ],
      "metadata": {
        "id": "0l9Q6xhtgkbN"
      },
      "execution_count": 382,
      "outputs": []
    },
    {
      "cell_type": "markdown",
      "source": [
        "### Função <font color='blue'>cria_DFs</font><font size=3>(dados, campo_y, inicio_teste, inicio_treino=<font color='yellow'>0</font>, campo_data=<font color='yellow'>'date'</font>)</font>\n",
        "#### Divide uma base da dados entre uma base de treino e outra base de teste para criação de modelos preditivos, já no padrão do Facebook Prophet"
      ],
      "metadata": {
        "id": "fgOCRvZnjzUq"
      }
    },
    {
      "cell_type": "markdown",
      "source": [
        "##### **Entradas e Saídas**\n",
        "\n",
        "Informações de entrada:\n",
        "* <font color='green'>dados</font>: data frame que será dividido\n",
        "* <font color='green'>campo_y</font>: campo do data frame que será utilizado como a varável ***'y'*** do modelo preditivo do Prophet\n",
        "* <font color='green'>inicio_teste</font>: valor do registro inicial para a base de teste, consequentemente será utilizado como o fim da base de treino\n",
        "* <font color='green'>inicio_treino</font>: valor do registro inicial para a base de treino, por padrão tem o valor <font color='yellow'>0</font>\n",
        "* <font color='green'>campo_data</font>: campo do data frame que possuí a data e que será utilizado na varável ***'ds'*** do modelo preditivo do Prophet, por padrão tem o valor <font color='yellow'>'date'</font>\n",
        "\n",
        "Saídas:\n",
        "* Esta função retorna 2 informações:\n",
        "> 1. <font color='purple'>df_treino</font>: data frame de treino\n",
        "> 1. <font color='purple'>df_teste</font>: data fram de teste\n",
        "* Estes data frames retornados estão com o seu index resetado\n",
        "* Precisa ser atribuida para uma dupla de variáveis, por exemplo: *df_treino, df_teste = cria_DFs(dados, campo_y, inicio_teste)*"
      ],
      "metadata": {
        "id": "kd9349k2lboo"
      }
    },
    {
      "cell_type": "code",
      "source": [
        "def cria_DFs (dados, campo_y, inicio_teste, inicio_treino=0, campo_data='date'):\n",
        "  df_teste = pd.DataFrame()\n",
        "  # a base de teste será sempre do início enviado até o final da base de dados\n",
        "  df_teste['ds'] = dados[campo_data][inicio_teste:]\n",
        "  df_teste['y'] = dados[campo_y][inicio_teste:]\n",
        "  df_teste = df_teste.reset_index(drop=True)\n",
        "  df_treino = pd.DataFrame()\n",
        "  # a base de treino terá como fim o início do teste enviado\n",
        "  df_treino['ds'] = dados[campo_data][inicio_treino:inicio_teste]\n",
        "  df_treino['y'] = dados[campo_y][inicio_treino:inicio_teste]\n",
        "  df_treino = df_treino.reset_index(drop=True)\n",
        "  return df_treino, df_teste"
      ],
      "metadata": {
        "id": "uK11GWiCg-c8"
      },
      "execution_count": 383,
      "outputs": []
    },
    {
      "cell_type": "markdown",
      "source": [
        "### Função <font color='blue'>modelar</font><font size=3>(df_treino, df_teste, y_label, show_change_points=<font color='yellow'>False</font>, **todos os parâmetros da função Prophet da biblioteca Facebook Prophet)</font>\n",
        "#### Cria o modelo preditivo da biblioteca Facebook Prophet, retorna o modelo e a base de previsão. Fora isso, exibe o gráfico do modelo, incluindo a comparação com a base de teste"
      ],
      "metadata": {
        "id": "aIgY7XGHla3S"
      }
    },
    {
      "cell_type": "markdown",
      "source": [
        "##### **Entradas e Saídas**\n",
        "\n",
        "Informações de entrada:\n",
        "* <font color='green'>df_treino</font>: data frame que será utilizado para trienar o modelo. **Obersevação**: lembrar que o se o parâmetro *growth* for alterado para *'logistic'* é necessário incluir o campo *'cap'<font size=1><sup>(1)</sup></font>* neste data frame antes de chamar esta função\n",
        "* <font color='green'>df_teste</font>: data frame que será plotado como comparação para a projeção\n",
        "* <font color='green'>y_label</font>: valor que será plotado como título do eixo Y do gráfico\n",
        "* <font color='green'>show_change_points</font>: se passar o valor <font color='grey'>**True**</font> plota os change points no gráfico, por padrão o valor é <font color='yellow'>False</font>\n",
        "* <font color='green'>** parâmetros do Prophet</font>: pode-se passar qualquer parâmentro da função Prophet da biblioteca Facebook Prophet\n",
        "\n",
        "<font size=2> <font size=1><sup>(1)</sup></font> *'cap' é a definição do valor máximo esperado na função logística e precisa ter valor em todas as linhas do data frame. [Link para página do Prophet sobre isso](https://facebook.github.io/prophet/docs/saturating_forecasts.html#forecasting-growth)*</font>\n",
        "\n",
        "Saídas:\n",
        "* Esta função retorna 2 informações:\n",
        "> 1. <font color='purple'>modelo</font>: o modelo calculado pelo Prophet\n",
        "> 1. <font color='purple'>previsao</font>: a base de previsão calculada pelo Prophet. Vale destacar que os dados futuros terão o mesmo tamanho que o <font color='green'>df_teste</font> que foi passado\n",
        "* Ela também plota o gráfico do modelo previsto (<font color='purple'>previsao</font> como uma linha azul), bem como as informações reais, tanto do <font color='green'>df_treino</font> (linha cinza) quanto <font color='green'>df_teste</font> (linha laranja), para comparação visual\n",
        "* Caso tenha optado pela opção de mostrar os change points, eles irão aparecer no gráfico também"
      ],
      "metadata": {
        "id": "y-PS3gI3qUmf"
      }
    },
    {
      "cell_type": "code",
      "source": [
        "def modelar (df_treino, df_teste, y_label, show_change_points=False, growth='linear', changepoints=None, n_changepoints=25, changepoint_range=0.8, \n",
        "             yearly_seasonality='auto', weekly_seasonality='auto', daily_seasonality='auto', holidays=None, seasonality_mode='additive', \n",
        "             seasonality_prior_scale=10.0, holidays_prior_scale=10.0, changepoint_prior_scale=0.05, mcmc_samples=0, interval_width=0.8, \n",
        "             uncertainty_samples=1000, stan_backend=None):\n",
        "  # cria o modelo com os parâmetros escolhidos\n",
        "  modelo = Prophet(growth, changepoints, n_changepoints, changepoint_range, yearly_seasonality, weekly_seasonality, daily_seasonality, \n",
        "                   holidays, seasonality_mode, seasonality_prior_scale, holidays_prior_scale, changepoint_prior_scale, mcmc_samples, \n",
        "                   interval_width, uncertainty_samples, stan_backend)\n",
        "  # treina o modelo com o df_treino\n",
        "  modelo.fit(df_treino)\n",
        "  # cria o df para previsão futura do mesmo tamanho que o df_teste\n",
        "  df_futuro = modelo.make_future_dataframe(periods=len(df_teste))\n",
        "  # se estiver projetando um modelo logístico, inclui o 'cap' no df_futuro\n",
        "  if growth=='logistic': df_futuro['cap'] = df_treino['cap'].iloc[0];\n",
        "  # preve os pontos futuros com base no modelo treinado anteriormente\n",
        "  previsao = modelo.predict(df_futuro)\n",
        "  # plota a previsão, onde o nome do eixo y é igual ao que foi passado na função\n",
        "  fig = modelo.plot(previsao, xlabel='Data', ylabel=y_label, figsize=(15,8))\n",
        "  # se estiver definido show_change_points como True, plota os change points\n",
        "  if show_change_points: a = add_changepoints_to_plot(fig.gca(), modelo, previsao);\n",
        "  # plota o df_teste como uma linha pontilhada laranja\n",
        "  plt.plot(df_teste.ds, df_teste.y, ':', marker='.', color='orange')\n",
        "  # plota o df_treino como uma linha pontilhada cinza\n",
        "  plt.plot(df_treino.ds, df_treino.y, ':', color=\"grey\")\n",
        "  # plt.xticks(color='black')\n",
        "  # plt.yticks(color='black')\n",
        "  return modelo, previsao # retorna as informações do modelo que foi treinado e o df da previsão criada"
      ],
      "metadata": {
        "id": "O57mp0cJg4Vx"
      },
      "execution_count": 384,
      "outputs": []
    },
    {
      "cell_type": "markdown",
      "source": [
        "### Função <font color='blue'>agrupa_EW</font><font size=3>(df, campo_data=<font color='yellow'>'date'</font>, campo_EW=<font color='yellow'>'epidemiological_week'</font>, campos=<font color='yellow'>[ ]</font>)</font>\n",
        "#### Retorna um data frame agrupado por semana epidemiológica, com a data do primeiro dia da semana e somando os valores dos campos numéricos restantes"
      ],
      "metadata": {
        "id": "zFEWewrUSfdf"
      }
    },
    {
      "cell_type": "markdown",
      "source": [
        "##### **Entradas e Saídas**\n",
        "\n",
        "Informações de entrada:\n",
        "* <font color='green'>df</font>: data frame que será agrupado\n",
        "* <font color='green'>campo_data</font>: campo de data do data frame enviado, por padrão será utilizado <font color='yellow'>'date'</font>\n",
        "* <font color='green'>campo_EW</font>: campo que possuí a semana epidemiológica, por padrão será utilizado <font color='yellow'>'epidemiological_week'</font>\n",
        "* <font color='green'>campos</font>: lista dos demais campos não numéricos para manter na tabela, por padrão é uma <font color='yellow'>lista vazia</font>\n",
        "\n",
        "Saídas:\n",
        "* Esta função retorna o data frame <font color='purple'>df_saida</font> com as seguintes alterações:\n",
        "> 1. <font color='green'>campo_data</font>: passará a ser data do primeiro dia da semana epidemiológica\n",
        "> 1. <font color='green'>campo_EW</font>: será excluído\n",
        "> 1. Os demais <font color='green'>campos</font> não numéricos que foram passados na função\n",
        "> 1. A soma dos campos numéricos da base original\n"
      ],
      "metadata": {
        "id": "BVQzfNdmTw3-"
      }
    },
    {
      "cell_type": "code",
      "source": [
        "def agrupa_EW (df, campo_data='date', campo_EW='epidemiological_week', campos=[]):\n",
        "  df_saida = df.copy()\n",
        "  df_saida[campo_data]=df_saida[campo_EW].map(EW_Date)\n",
        "  df_saida.drop(columns=campo_EW, inplace=True)\n",
        "  lista = []\n",
        "  lista += [campo_data]\n",
        "  lista += campos\n",
        "  df_saida = df_saida.groupby(by=lista).sum().reset_index()\n",
        "  return df_saida.reset_index(drop=True)"
      ],
      "metadata": {
        "id": "QMzD3R2PWRS_"
      },
      "execution_count": 385,
      "outputs": []
    },
    {
      "cell_type": "markdown",
      "source": [
        "### Função <font color='blue'>valid_cruzada</font><font size=3>(modelo, inicial=<font color='yellow'>'180 days'</font>, periodo=<font color='yellow'>'30 days'</font>, horizonte=<font color='yellow'>'30 days'</font>, metrica=<font color='yellow'>'rmse'</font>)</font>\n",
        "#### Retorna um data frame da validação cruzada e também plota um gráfico com a métrica escolhida, por padrão é a métrica do Root Mean Squared Error"
      ],
      "metadata": {
        "id": "rp1qyLAnfJ83"
      }
    },
    {
      "cell_type": "markdown",
      "source": [
        "##### **Entradas e Saídas**\n",
        "\n",
        "Informações de entrada:\n",
        "* <font color='green'>modelo</font>: modelo do Prophet para validação\n",
        "* <font color='green'>inicial</font>: período inicial para a primeira validação, por padrão será utilizado <font color='yellow'>'180 days'</font>\n",
        "* <font color='green'>periodo</font>: janela de tempo para cada nova validação, por padrão será utilizado <font color='yellow'>'30 days'</font>\n",
        "* <font color='green'>horizonte</font>: janela de projeção de cada validação, por padrão será utilizado <font color='yellow'>'30 days'</font>\n",
        "* <font color='green'>metrica</font>: métrica que será utilizada para plotar o gráfico, por padrão será utilizado <font color='yellow'>'rmse'</font>\n",
        "\n",
        "Saídas:\n",
        "* Esta função retorna o data frame <font color='purple'>df_cv</font> da validação cruzada\n",
        "* Ela também irá plotar um gráfico da validação cruzada com a métrica escolhida"
      ],
      "metadata": {
        "id": "gQi6VBR4hB8-"
      }
    },
    {
      "cell_type": "code",
      "source": [
        "def valid_cruzada(modelo, inicial='180 days', periodo='30 days', horizonte='30 days', metrica='rmse'):\n",
        "  df_cv = cross_validation(modelo, initial=inicial, period=periodo, horizon=horizonte)\n",
        "  fig = plot_cross_validation_metric(df_cv ,metric='rmse')\n",
        "  return df_cv"
      ],
      "metadata": {
        "id": "Lg1aNmLGgDV5"
      },
      "execution_count": 386,
      "outputs": []
    },
    {
      "cell_type": "markdown",
      "source": [
        "## **Dados**"
      ],
      "metadata": {
        "id": "04DGgzqQEujv"
      }
    },
    {
      "cell_type": "markdown",
      "source": [
        "### lista de feriados da cidade de São Paulo: <font color=blue>feriados_sp</font>"
      ],
      "metadata": {
        "id": "rj8giBL2HGmM"
      }
    },
    {
      "cell_type": "markdown",
      "source": [
        "#### lista de feriados da cidade de São Paulo de 2020"
      ],
      "metadata": {
        "id": "hvxbgsFnHqy1"
      }
    },
    {
      "cell_type": "code",
      "source": [
        "feriados_sp_2020 = [\n",
        "'2020-02-25',\n",
        "'2020-02-26',\n",
        "'2020-04-10',\n",
        "'2020-02-25',\n",
        "'2020-02-26',\n",
        "'2020-04-10',\n",
        "'2020-04-21',\n",
        "'2020-05-01',\n",
        "'2020-05-20',\n",
        "'2020-05-21', \n",
        "'2020-05-22',\n",
        "'2020-05-25',\n",
        "'2020-06-11',\n",
        "'2020-09-07',\n",
        "'2020-10-12',\n",
        "'2020-11-02',\n",
        "'2020-11-15',\n",
        "'2020-12-25'\n",
        "]"
      ],
      "metadata": {
        "id": "5Eb4wtUL0iXd"
      },
      "execution_count": 387,
      "outputs": []
    },
    {
      "cell_type": "code",
      "source": [
        "feriados_sp_2020 = pd.DataFrame({\n",
        "  'holiday': 'sp_2020',\n",
        "  'ds': pd.to_datetime(feriados_sp_2020)\n",
        "})"
      ],
      "metadata": {
        "id": "9ZoYpyB7IDMU"
      },
      "execution_count": 388,
      "outputs": []
    },
    {
      "cell_type": "markdown",
      "source": [
        "#### lista de feriados da cidade de São Paulo de 2021"
      ],
      "metadata": {
        "id": "fe8fw1uQH3fK"
      }
    },
    {
      "cell_type": "code",
      "source": [
        "feriados_sp_2021 = [\n",
        "'2021-01-01',\n",
        "'2021-01-25',\n",
        "'2021-02-15',\n",
        "'2021-02-16',\n",
        "'2021-02-17',\n",
        "'2021-03-26',\n",
        "'2021-03-29',\n",
        "'2021-03-30',\n",
        "'2021-03-31',\n",
        "'2021-04-01',\n",
        "'2021-04-02',\n",
        "'2021-04-21',\n",
        "'2021-05-01',\n",
        "'2021-06-03',\n",
        "'2021-07-09',\n",
        "'2021-09-07',\n",
        "'2021-10-12',\n",
        "'2021-11-02',\n",
        "'2021-11-15',\n",
        "'2021-12-25'\n",
        "]"
      ],
      "metadata": {
        "id": "uzFh-5LuHj-k"
      },
      "execution_count": 389,
      "outputs": []
    },
    {
      "cell_type": "code",
      "source": [
        "feriados_sp_2021 = pd.DataFrame({\n",
        "  'holiday': 'sp_2021',\n",
        "  'ds': pd.to_datetime(feriados_sp_2021)\n",
        "})\n"
      ],
      "metadata": {
        "id": "bsWb1cflIHhW"
      },
      "execution_count": 390,
      "outputs": []
    },
    {
      "cell_type": "markdown",
      "source": [
        "#### lista consolida de feriados da cidade de São Paulo 2020 e 2021"
      ],
      "metadata": {
        "id": "uSjsRez1IIdN"
      }
    },
    {
      "cell_type": "code",
      "source": [
        "feriados_sp = pd.concat((feriados_sp_2020, feriados_sp_2021))\n",
        "print(feriados_sp.head())\n",
        "print(feriados_sp.tail())"
      ],
      "metadata": {
        "colab": {
          "base_uri": "https://localhost:8080/"
        },
        "id": "wTLGO-SfHbj5",
        "outputId": "00439eaa-189b-4ec9-9338-057b415926fb"
      },
      "execution_count": 391,
      "outputs": [
        {
          "output_type": "stream",
          "name": "stdout",
          "text": [
            "   holiday         ds\n",
            "0  sp_2020 2020-02-25\n",
            "1  sp_2020 2020-02-26\n",
            "2  sp_2020 2020-04-10\n",
            "3  sp_2020 2020-02-25\n",
            "4  sp_2020 2020-02-26\n",
            "    holiday         ds\n",
            "15  sp_2021 2021-09-07\n",
            "16  sp_2021 2021-10-12\n",
            "17  sp_2021 2021-11-02\n",
            "18  sp_2021 2021-11-15\n",
            "19  sp_2021 2021-12-25\n"
          ]
        }
      ]
    },
    {
      "cell_type": "markdown",
      "source": [
        "### Dicionários de estados"
      ],
      "metadata": {
        "id": "qwiczb04cLXG"
      }
    },
    {
      "cell_type": "markdown",
      "source": [
        "#### Estados e siglas: <font color='blue'>ufs_siglas</font> e <font color='blue'>siglas_ufs</font>"
      ],
      "metadata": {
        "id": "xiPV-vG-cU0K"
      }
    },
    {
      "cell_type": "code",
      "source": [
        "ufs_siglas = {\"Acre\":\"AC\",\"Alagoas\":\"AL\",\"Amapá\":\"AP\",\"Amazonas\":\"AM\",\"Bahia\":\"BA\",\"Ceará\":\"CE\",\n",
        "           \"Distrito Federal\":\"DF\",\"Espírito Santo\":\"ES\",\"Goiás\":\"GO\",\"Maranhão\":\"MA\",\"Mato Grosso\":\"MT\",\n",
        "           \"Mato Grosso do Sul\":\"MS\",\"Minas Gerais\":\"MG\",\"Pará\":\"PA\",\"Paraíba\":\"PB\",\"Paraná\":\"PR\",\n",
        "           \"Pernambuco\":\"PE\",\"Piauí\":\"PI\",\"Rio de Janeiro\":\"RJ\",\"Rio Grande do Norte\":\"RN\",\"Rio Grande do Sul\":\"RS\",\n",
        "           \"Rondônia\":\"RO\",\"Roraima\":\"RR\",\"Santa Catarina\":\"SC\",\"São Paulo\":\"SP\",\"Sergipe\":\"SE\",\"Tocantins\":\"TO\"}"
      ],
      "metadata": {
        "id": "lJiSMcULcdD2"
      },
      "execution_count": 392,
      "outputs": []
    },
    {
      "cell_type": "code",
      "source": [
        "# código para inverter a ordem do dicionário anterior\n",
        "siglas_ufs = {}\n",
        "for uf, sigla in ufs_siglas.items(): \n",
        "  siglas_ufs[sigla] = uf"
      ],
      "metadata": {
        "id": "J5-_EcY2dWBK"
      },
      "execution_count": 393,
      "outputs": []
    },
    {
      "cell_type": "markdown",
      "source": [
        "#### Estados e Regiões: <font color='blue'>ufs_regioes</font>"
      ],
      "metadata": {
        "id": "jQ-EHHAVcUbC"
      }
    },
    {
      "cell_type": "code",
      "source": [
        "ufs_regioes = {\"Acre\":\"Norte\",\"Alagoas\":\"Nordeste\",\"Amapá\":\"Norte\",\"Amazonas\":\"Norte\",\"Bahia\":\"Nordeste\",\n",
        "               \"Ceará\":\"Nordeste\",\"Distrito Federal\":\"Centro-Oeste\",\"Espírito Santo\":\"Sudeste\",\"Goiás\":\"Centro-Oeste\",\n",
        "               \"Maranhão\":\"Nordeste\",\"Mato Grosso\":\"Centro-Oeste\",\"Mato Grosso do Sul\":\"Centro-Oeste\",\n",
        "               \"Minas Gerais\":\"Sudeste\",\"Pará\":\"Norte\",\"Paraíba\":\"Nordeste\",\"Paraná\":\"Sul\",\"Pernambuco\":\"Nordeste\",\n",
        "               \"Piauí\":\"Nordeste\",\"Rio de Janeiro\":\"Sudeste\",\"Rio Grande do Norte\":\"Nordeste\",\n",
        "               \"Rio Grande do Sul\":\"Sudeste\",\"Rondônia\":\"Norte\",\"Roraima\":\"Norte\",\"Santa Catarina\":\"Sul\",\n",
        "               \"São Paulo\":\"Sudeste\",\"Sergipe\":\"Nordeste\",\"Tocantins\":\"Norte\"}"
      ],
      "metadata": {
        "id": "CGkm9nvbcv5L"
      },
      "execution_count": 394,
      "outputs": []
    },
    {
      "cell_type": "markdown",
      "source": [
        "### Dados Brasil.io"
      ],
      "metadata": {
        "id": "X1vqoVWbReow"
      }
    },
    {
      "cell_type": "markdown",
      "source": [
        "#### importando os dados"
      ],
      "metadata": {
        "id": "N_gy9RupVSK3"
      }
    },
    {
      "cell_type": "markdown",
      "source": [
        "Os dados tiveram um tratamento inicial no notebook [TratandoBaseOriginal](https://github.com/ViniciusCastillo/BootcampAlura_ProjetoModulo3/blob/main/notebooks/TratandoBaseOriginal.ipynb) para reduzir o seu tamanho e permitir a carga no GitHub.\n",
        "\n",
        "Foram mantidas apenas as maiores cidades do Brasil e a visão consolidada dos estados."
      ],
      "metadata": {
        "id": "Z9KY0788R5CO"
      }
    },
    {
      "cell_type": "code",
      "source": [
        "dados = pd.read_csv('https://raw.githubusercontent.com/ViniciusCastillo/BootcampAlura_ProjetoModulo3/main/dados/dados_covid.csv')\n",
        "dados['date'] = pd.to_datetime(dados['date'])\n",
        "dados['UF'] = dados['state'].map(siglas_ufs)\n",
        "dados['regiao'] = dados['UF'].map(ufs_regioes)\n",
        "dados.info()"
      ],
      "metadata": {
        "colab": {
          "base_uri": "https://localhost:8080/"
        },
        "id": "--8VANaKRjan",
        "outputId": "0cbefa7e-fa7d-4892-8c2c-350fae13c385"
      },
      "execution_count": 395,
      "outputs": [
        {
          "output_type": "stream",
          "name": "stdout",
          "text": [
            "<class 'pandas.core.frame.DataFrame'>\n",
            "RangeIndex: 23267 entries, 0 to 23266\n",
            "Data columns (total 20 columns):\n",
            " #   Column                                         Non-Null Count  Dtype         \n",
            "---  ------                                         --------------  -----         \n",
            " 0   city                                           6307 non-null   object        \n",
            " 1   city_ibge_code                                 23267 non-null  float64       \n",
            " 2   date                                           23267 non-null  datetime64[ns]\n",
            " 3   epidemiological_week                           23267 non-null  int64         \n",
            " 4   estimated_population                           23267 non-null  float64       \n",
            " 5   estimated_population_2019                      23267 non-null  float64       \n",
            " 6   is_last                                        23267 non-null  bool          \n",
            " 7   is_repeated                                    23267 non-null  bool          \n",
            " 8   last_available_confirmed                       23267 non-null  int64         \n",
            " 9   last_available_confirmed_per_100k_inhabitants  23261 non-null  float64       \n",
            " 10  last_available_date                            23267 non-null  object        \n",
            " 11  last_available_death_rate                      23267 non-null  float64       \n",
            " 12  last_available_deaths                          23267 non-null  int64         \n",
            " 13  order_for_place                                23267 non-null  int64         \n",
            " 14  place_type                                     23267 non-null  object        \n",
            " 15  state                                          23267 non-null  object        \n",
            " 16  new_confirmed                                  23267 non-null  int64         \n",
            " 17  new_deaths                                     23267 non-null  int64         \n",
            " 18  UF                                             23267 non-null  object        \n",
            " 19  regiao                                         23267 non-null  object        \n",
            "dtypes: bool(2), datetime64[ns](1), float64(5), int64(6), object(6)\n",
            "memory usage: 3.2+ MB\n"
          ]
        }
      ]
    },
    {
      "cell_type": "markdown",
      "source": [
        "#### base das cidades mais populosas: <font color='blue'>dados_cidades</font>\n",
        "formato:\n",
        "\n",
        "|Campo|Descrição\n",
        "|:----|:----|\n",
        "|**city**|Cidade|\n",
        "|**UF**|Unidade da federação|\n",
        "|**regiao**|Região do Brasil que a unidade da federação pertence|\n",
        "|**date**|Data: Ano-Mês-Dia (datetime)|\n",
        "|**epidemiological_week**|Semana epidemológica: AnoSemana (int)|\n",
        "|**estimated_population**|População estimadade de 2020 (float)|\n",
        "|**new_cofirmed**|Novos casos (int)|\n",
        "|**new_deaths**|Novos óbitos (int)|"
      ],
      "metadata": {
        "id": "lml6XTlTVN6u"
      }
    },
    {
      "cell_type": "code",
      "source": [
        "dados_cidades = dados.query('place_type == \"city\"')[['city','UF','regiao','date','epidemiological_week','estimated_population','new_confirmed','new_deaths']]\n",
        "dados_cidades.reset_index(inplace=True, drop=True)\n",
        "dados_cidades.info()"
      ],
      "metadata": {
        "colab": {
          "base_uri": "https://localhost:8080/"
        },
        "id": "BnGISwbPStK0",
        "outputId": "fd6a4c75-ce6f-49f7-d191-c76ded006f93"
      },
      "execution_count": 396,
      "outputs": [
        {
          "output_type": "stream",
          "name": "stdout",
          "text": [
            "<class 'pandas.core.frame.DataFrame'>\n",
            "RangeIndex: 6307 entries, 0 to 6306\n",
            "Data columns (total 8 columns):\n",
            " #   Column                Non-Null Count  Dtype         \n",
            "---  ------                --------------  -----         \n",
            " 0   city                  6307 non-null   object        \n",
            " 1   UF                    6307 non-null   object        \n",
            " 2   regiao                6307 non-null   object        \n",
            " 3   date                  6307 non-null   datetime64[ns]\n",
            " 4   epidemiological_week  6307 non-null   int64         \n",
            " 5   estimated_population  6307 non-null   float64       \n",
            " 6   new_confirmed         6307 non-null   int64         \n",
            " 7   new_deaths            6307 non-null   int64         \n",
            "dtypes: datetime64[ns](1), float64(1), int64(3), object(3)\n",
            "memory usage: 394.3+ KB\n"
          ]
        }
      ]
    },
    {
      "cell_type": "markdown",
      "source": [
        "#### base de estados : <font color='blue'>dados_estados</font>\n",
        "formato:\n",
        "\n",
        "|Campo|Descrição\n",
        "|:----|:----|\n",
        "|**UF**|Unidade da federação|\n",
        "|**regiao**|Região do Brasil que a unidade da federação pertence|\n",
        "|**date**|Data: Ano-Mês-Dia (datetime)|\n",
        "|**epidemiological_week**|Semana epidemológica: AnoSemana (int)|\n",
        "|**estimated_population**|População estimadade de 2020 (float)|\n",
        "|**new_cofirmed**|Novos casos (int)|\n",
        "|**new_deaths**|Novos óbitos (int)|"
      ],
      "metadata": {
        "id": "lEvXJmRxWHA9"
      }
    },
    {
      "cell_type": "code",
      "source": [
        "dados_estados = dados.query('place_type == \"state\"')[['UF', 'regiao','date','epidemiological_week','estimated_population','new_confirmed','new_deaths']]\n",
        "dados_estados.reset_index(inplace=True, drop=True)\n",
        "dados_estados.info()"
      ],
      "metadata": {
        "colab": {
          "base_uri": "https://localhost:8080/"
        },
        "id": "_OSphZccTWEm",
        "outputId": "f9c3d5b3-2984-4970-c401-690124ca9308"
      },
      "execution_count": 397,
      "outputs": [
        {
          "output_type": "stream",
          "name": "stdout",
          "text": [
            "<class 'pandas.core.frame.DataFrame'>\n",
            "RangeIndex: 16960 entries, 0 to 16959\n",
            "Data columns (total 7 columns):\n",
            " #   Column                Non-Null Count  Dtype         \n",
            "---  ------                --------------  -----         \n",
            " 0   UF                    16960 non-null  object        \n",
            " 1   regiao                16960 non-null  object        \n",
            " 2   date                  16960 non-null  datetime64[ns]\n",
            " 3   epidemiological_week  16960 non-null  int64         \n",
            " 4   estimated_population  16960 non-null  float64       \n",
            " 5   new_confirmed         16960 non-null  int64         \n",
            " 6   new_deaths            16960 non-null  int64         \n",
            "dtypes: datetime64[ns](1), float64(1), int64(3), object(2)\n",
            "memory usage: 927.6+ KB\n"
          ]
        }
      ]
    },
    {
      "cell_type": "markdown",
      "source": [
        "#### base de regiões : <font color='blue'>dados_regioes</font>\n",
        "formato:\n",
        "\n",
        "|Campo|Descrição\n",
        "|:----|:----|\n",
        "|**regiao**|Região do Brasil que a unidade da federação pertence|\n",
        "|**date**|Data: Ano-Mês-Dia (datetime)|\n",
        "|**epidemiological_week**|Semana epidemológica: AnoSemana (int)|\n",
        "|**estimated_population**|População estimadade de 2020 (float)|\n",
        "|**new_cofirmed**|Novos casos (int)|\n",
        "|**new_deaths**|Novos óbitos (int)|"
      ],
      "metadata": {
        "id": "nRVwWHHWkKyc"
      }
    },
    {
      "cell_type": "code",
      "source": [
        "dados_regioes = dados_estados.groupby(by=['regiao','date','epidemiological_week']).sum().reset_index()\n",
        "dados_regioes.reset_index(inplace=True, drop=True)"
      ],
      "metadata": {
        "id": "jcG1rGlTWv_k"
      },
      "execution_count": 398,
      "outputs": []
    },
    {
      "cell_type": "code",
      "source": [
        "# ajustando a população estimada dos primeiros meses do ano, partindo do último mês como referência\n",
        "regiao_populacao_estimada = dados_regioes.query(\"date == '2021-11-30'\")[['regiao','estimated_population']].set_index('regiao')\n",
        "dados_regioes.drop(columns='estimated_population', inplace=True)\n",
        "dados_regioes = dados_regioes.join(regiao_populacao_estimada, how='left', on='regiao')\n",
        "dados_regioes.info()"
      ],
      "metadata": {
        "colab": {
          "base_uri": "https://localhost:8080/"
        },
        "id": "7TCZ94G6bnju",
        "outputId": "41b611f4-9b01-472c-d1a1-ff42bf9eb187"
      },
      "execution_count": 399,
      "outputs": [
        {
          "output_type": "stream",
          "name": "stdout",
          "text": [
            "<class 'pandas.core.frame.DataFrame'>\n",
            "RangeIndex: 3171 entries, 0 to 3170\n",
            "Data columns (total 6 columns):\n",
            " #   Column                Non-Null Count  Dtype         \n",
            "---  ------                --------------  -----         \n",
            " 0   regiao                3171 non-null   object        \n",
            " 1   date                  3171 non-null   datetime64[ns]\n",
            " 2   epidemiological_week  3171 non-null   int64         \n",
            " 3   new_confirmed         3171 non-null   int64         \n",
            " 4   new_deaths            3171 non-null   int64         \n",
            " 5   estimated_population  3171 non-null   float64       \n",
            "dtypes: datetime64[ns](1), float64(1), int64(3), object(1)\n",
            "memory usage: 148.8+ KB\n"
          ]
        }
      ]
    },
    {
      "cell_type": "markdown",
      "source": [
        "#### base total do Brasil : <font color='blue'>dados_Brasil</font>\n",
        "formato:\n",
        "\n",
        "|Campo|Descrição\n",
        "|:----|:----|\n",
        "|**date**|Data: Ano-Mês-Dia (datetime)|\n",
        "|**epidemiological_week**|Semana epidemológica: AnoSemana (int)|\n",
        "|**estimated_population**|População estimadade de 2020 (float)|\n",
        "|**new_cofirmed**|Novos casos (int)|\n",
        "|**new_deaths**|Novos óbitos (int)|"
      ],
      "metadata": {
        "id": "IPP4zVyvyVzc"
      }
    },
    {
      "cell_type": "code",
      "source": [
        "dados_Brasil = dados_regioes.groupby(by=['date','epidemiological_week']).sum().reset_index()\n",
        "dados_Brasil.reset_index(inplace=True, drop=True)"
      ],
      "metadata": {
        "id": "hs5wrgxaybVN"
      },
      "execution_count": 400,
      "outputs": []
    },
    {
      "cell_type": "code",
      "source": [
        "# ajustando a população estimada dos primeiros meses do ano, partindo do último mês como referência\n",
        "populacao_estimada = dados_Brasil.query(\"date == '2021-11-30'\")[['estimated_population']]\n",
        "dados_Brasil['estimated_population'] = float (populacao_estimada['estimated_population'])\n",
        "print (dados_Brasil.info())\n",
        "dados_Brasil.head()"
      ],
      "metadata": {
        "colab": {
          "base_uri": "https://localhost:8080/",
          "height": 0
        },
        "id": "rS7iOL3xywIg",
        "outputId": "da103ad0-2258-40ab-8c0f-c2905f4282f8"
      },
      "execution_count": 401,
      "outputs": [
        {
          "output_type": "stream",
          "name": "stdout",
          "text": [
            "<class 'pandas.core.frame.DataFrame'>\n",
            "RangeIndex: 645 entries, 0 to 644\n",
            "Data columns (total 5 columns):\n",
            " #   Column                Non-Null Count  Dtype         \n",
            "---  ------                --------------  -----         \n",
            " 0   date                  645 non-null    datetime64[ns]\n",
            " 1   epidemiological_week  645 non-null    int64         \n",
            " 2   new_confirmed         645 non-null    int64         \n",
            " 3   new_deaths            645 non-null    int64         \n",
            " 4   estimated_population  645 non-null    float64       \n",
            "dtypes: datetime64[ns](1), float64(1), int64(3)\n",
            "memory usage: 25.3 KB\n",
            "None\n"
          ]
        },
        {
          "output_type": "execute_result",
          "data": {
            "text/html": [
              "\n",
              "  <div id=\"df-399d74f1-b9c8-4f2e-a233-85dd82eee8de\">\n",
              "    <div class=\"colab-df-container\">\n",
              "      <div>\n",
              "<style scoped>\n",
              "    .dataframe tbody tr th:only-of-type {\n",
              "        vertical-align: middle;\n",
              "    }\n",
              "\n",
              "    .dataframe tbody tr th {\n",
              "        vertical-align: top;\n",
              "    }\n",
              "\n",
              "    .dataframe thead th {\n",
              "        text-align: right;\n",
              "    }\n",
              "</style>\n",
              "<table border=\"1\" class=\"dataframe\">\n",
              "  <thead>\n",
              "    <tr style=\"text-align: right;\">\n",
              "      <th></th>\n",
              "      <th>date</th>\n",
              "      <th>epidemiological_week</th>\n",
              "      <th>new_confirmed</th>\n",
              "      <th>new_deaths</th>\n",
              "      <th>estimated_population</th>\n",
              "    </tr>\n",
              "  </thead>\n",
              "  <tbody>\n",
              "    <tr>\n",
              "      <th>0</th>\n",
              "      <td>2020-02-25</td>\n",
              "      <td>202009</td>\n",
              "      <td>1</td>\n",
              "      <td>0</td>\n",
              "      <td>211,755,692.00</td>\n",
              "    </tr>\n",
              "    <tr>\n",
              "      <th>1</th>\n",
              "      <td>2020-02-26</td>\n",
              "      <td>202009</td>\n",
              "      <td>0</td>\n",
              "      <td>0</td>\n",
              "      <td>211,755,692.00</td>\n",
              "    </tr>\n",
              "    <tr>\n",
              "      <th>2</th>\n",
              "      <td>2020-02-27</td>\n",
              "      <td>202009</td>\n",
              "      <td>0</td>\n",
              "      <td>0</td>\n",
              "      <td>211,755,692.00</td>\n",
              "    </tr>\n",
              "    <tr>\n",
              "      <th>3</th>\n",
              "      <td>2020-02-28</td>\n",
              "      <td>202009</td>\n",
              "      <td>1</td>\n",
              "      <td>0</td>\n",
              "      <td>211,755,692.00</td>\n",
              "    </tr>\n",
              "    <tr>\n",
              "      <th>4</th>\n",
              "      <td>2020-02-29</td>\n",
              "      <td>202009</td>\n",
              "      <td>0</td>\n",
              "      <td>0</td>\n",
              "      <td>211,755,692.00</td>\n",
              "    </tr>\n",
              "  </tbody>\n",
              "</table>\n",
              "</div>\n",
              "      <button class=\"colab-df-convert\" onclick=\"convertToInteractive('df-399d74f1-b9c8-4f2e-a233-85dd82eee8de')\"\n",
              "              title=\"Convert this dataframe to an interactive table.\"\n",
              "              style=\"display:none;\">\n",
              "        \n",
              "  <svg xmlns=\"http://www.w3.org/2000/svg\" height=\"24px\"viewBox=\"0 0 24 24\"\n",
              "       width=\"24px\">\n",
              "    <path d=\"M0 0h24v24H0V0z\" fill=\"none\"/>\n",
              "    <path d=\"M18.56 5.44l.94 2.06.94-2.06 2.06-.94-2.06-.94-.94-2.06-.94 2.06-2.06.94zm-11 1L8.5 8.5l.94-2.06 2.06-.94-2.06-.94L8.5 2.5l-.94 2.06-2.06.94zm10 10l.94 2.06.94-2.06 2.06-.94-2.06-.94-.94-2.06-.94 2.06-2.06.94z\"/><path d=\"M17.41 7.96l-1.37-1.37c-.4-.4-.92-.59-1.43-.59-.52 0-1.04.2-1.43.59L10.3 9.45l-7.72 7.72c-.78.78-.78 2.05 0 2.83L4 21.41c.39.39.9.59 1.41.59.51 0 1.02-.2 1.41-.59l7.78-7.78 2.81-2.81c.8-.78.8-2.07 0-2.86zM5.41 20L4 18.59l7.72-7.72 1.47 1.35L5.41 20z\"/>\n",
              "  </svg>\n",
              "      </button>\n",
              "      \n",
              "  <style>\n",
              "    .colab-df-container {\n",
              "      display:flex;\n",
              "      flex-wrap:wrap;\n",
              "      gap: 12px;\n",
              "    }\n",
              "\n",
              "    .colab-df-convert {\n",
              "      background-color: #E8F0FE;\n",
              "      border: none;\n",
              "      border-radius: 50%;\n",
              "      cursor: pointer;\n",
              "      display: none;\n",
              "      fill: #1967D2;\n",
              "      height: 32px;\n",
              "      padding: 0 0 0 0;\n",
              "      width: 32px;\n",
              "    }\n",
              "\n",
              "    .colab-df-convert:hover {\n",
              "      background-color: #E2EBFA;\n",
              "      box-shadow: 0px 1px 2px rgba(60, 64, 67, 0.3), 0px 1px 3px 1px rgba(60, 64, 67, 0.15);\n",
              "      fill: #174EA6;\n",
              "    }\n",
              "\n",
              "    [theme=dark] .colab-df-convert {\n",
              "      background-color: #3B4455;\n",
              "      fill: #D2E3FC;\n",
              "    }\n",
              "\n",
              "    [theme=dark] .colab-df-convert:hover {\n",
              "      background-color: #434B5C;\n",
              "      box-shadow: 0px 1px 3px 1px rgba(0, 0, 0, 0.15);\n",
              "      filter: drop-shadow(0px 1px 2px rgba(0, 0, 0, 0.3));\n",
              "      fill: #FFFFFF;\n",
              "    }\n",
              "  </style>\n",
              "\n",
              "      <script>\n",
              "        const buttonEl =\n",
              "          document.querySelector('#df-399d74f1-b9c8-4f2e-a233-85dd82eee8de button.colab-df-convert');\n",
              "        buttonEl.style.display =\n",
              "          google.colab.kernel.accessAllowed ? 'block' : 'none';\n",
              "\n",
              "        async function convertToInteractive(key) {\n",
              "          const element = document.querySelector('#df-399d74f1-b9c8-4f2e-a233-85dd82eee8de');\n",
              "          const dataTable =\n",
              "            await google.colab.kernel.invokeFunction('convertToInteractive',\n",
              "                                                     [key], {});\n",
              "          if (!dataTable) return;\n",
              "\n",
              "          const docLinkHtml = 'Like what you see? Visit the ' +\n",
              "            '<a target=\"_blank\" href=https://colab.research.google.com/notebooks/data_table.ipynb>data table notebook</a>'\n",
              "            + ' to learn more about interactive tables.';\n",
              "          element.innerHTML = '';\n",
              "          dataTable['output_type'] = 'display_data';\n",
              "          await google.colab.output.renderOutput(dataTable, element);\n",
              "          const docLink = document.createElement('div');\n",
              "          docLink.innerHTML = docLinkHtml;\n",
              "          element.appendChild(docLink);\n",
              "        }\n",
              "      </script>\n",
              "    </div>\n",
              "  </div>\n",
              "  "
            ],
            "text/plain": [
              "        date  epidemiological_week  ...  new_deaths  estimated_population\n",
              "0 2020-02-25                202009  ...           0        211,755,692.00\n",
              "1 2020-02-26                202009  ...           0        211,755,692.00\n",
              "2 2020-02-27                202009  ...           0        211,755,692.00\n",
              "3 2020-02-28                202009  ...           0        211,755,692.00\n",
              "4 2020-02-29                202009  ...           0        211,755,692.00\n",
              "\n",
              "[5 rows x 5 columns]"
            ]
          },
          "metadata": {},
          "execution_count": 401
        }
      ]
    },
    {
      "cell_type": "markdown",
      "source": [
        "### Epidemiological Week Date: <font color='blue'>EW_Date</fonte>\n",
        "Dicionário com uma data para cada semana epidemiológica"
      ],
      "metadata": {
        "id": "v904bHRTNatM"
      }
    },
    {
      "cell_type": "code",
      "source": [
        "epidemiological_week = dados_Brasil[['epidemiological_week','date']].groupby('epidemiological_week').min()\n",
        "EW_Date = {}\n",
        "for item in epidemiological_week.index:\n",
        "  EW_Date[item] = epidemiological_week['date'].loc[item]\n",
        "EW_Date"
      ],
      "metadata": {
        "colab": {
          "base_uri": "https://localhost:8080/"
        },
        "id": "746JHHQuK4Ac",
        "outputId": "7f814ed2-1f3e-4b2f-eadd-2eba3373179e"
      },
      "execution_count": 402,
      "outputs": [
        {
          "output_type": "execute_result",
          "data": {
            "text/plain": [
              "{202009: Timestamp('2020-02-25 00:00:00'),\n",
              " 202010: Timestamp('2020-03-01 00:00:00'),\n",
              " 202011: Timestamp('2020-03-08 00:00:00'),\n",
              " 202012: Timestamp('2020-03-15 00:00:00'),\n",
              " 202013: Timestamp('2020-03-22 00:00:00'),\n",
              " 202014: Timestamp('2020-03-29 00:00:00'),\n",
              " 202015: Timestamp('2020-04-05 00:00:00'),\n",
              " 202016: Timestamp('2020-04-12 00:00:00'),\n",
              " 202017: Timestamp('2020-04-19 00:00:00'),\n",
              " 202018: Timestamp('2020-04-26 00:00:00'),\n",
              " 202019: Timestamp('2020-05-03 00:00:00'),\n",
              " 202020: Timestamp('2020-05-10 00:00:00'),\n",
              " 202021: Timestamp('2020-05-17 00:00:00'),\n",
              " 202022: Timestamp('2020-05-24 00:00:00'),\n",
              " 202023: Timestamp('2020-05-31 00:00:00'),\n",
              " 202024: Timestamp('2020-06-07 00:00:00'),\n",
              " 202025: Timestamp('2020-06-14 00:00:00'),\n",
              " 202026: Timestamp('2020-06-21 00:00:00'),\n",
              " 202027: Timestamp('2020-06-28 00:00:00'),\n",
              " 202028: Timestamp('2020-07-05 00:00:00'),\n",
              " 202029: Timestamp('2020-07-12 00:00:00'),\n",
              " 202030: Timestamp('2020-07-19 00:00:00'),\n",
              " 202031: Timestamp('2020-07-26 00:00:00'),\n",
              " 202032: Timestamp('2020-08-02 00:00:00'),\n",
              " 202033: Timestamp('2020-08-09 00:00:00'),\n",
              " 202034: Timestamp('2020-08-16 00:00:00'),\n",
              " 202035: Timestamp('2020-08-23 00:00:00'),\n",
              " 202036: Timestamp('2020-08-30 00:00:00'),\n",
              " 202037: Timestamp('2020-09-06 00:00:00'),\n",
              " 202038: Timestamp('2020-09-13 00:00:00'),\n",
              " 202039: Timestamp('2020-09-20 00:00:00'),\n",
              " 202040: Timestamp('2020-09-27 00:00:00'),\n",
              " 202041: Timestamp('2020-10-04 00:00:00'),\n",
              " 202042: Timestamp('2020-10-11 00:00:00'),\n",
              " 202043: Timestamp('2020-10-18 00:00:00'),\n",
              " 202044: Timestamp('2020-10-25 00:00:00'),\n",
              " 202045: Timestamp('2020-11-01 00:00:00'),\n",
              " 202046: Timestamp('2020-11-08 00:00:00'),\n",
              " 202047: Timestamp('2020-11-15 00:00:00'),\n",
              " 202048: Timestamp('2020-11-22 00:00:00'),\n",
              " 202049: Timestamp('2020-11-29 00:00:00'),\n",
              " 202050: Timestamp('2020-12-06 00:00:00'),\n",
              " 202051: Timestamp('2020-12-13 00:00:00'),\n",
              " 202052: Timestamp('2020-12-20 00:00:00'),\n",
              " 202053: Timestamp('2020-12-27 00:00:00'),\n",
              " 202101: Timestamp('2021-01-03 00:00:00'),\n",
              " 202102: Timestamp('2021-01-10 00:00:00'),\n",
              " 202103: Timestamp('2021-01-17 00:00:00'),\n",
              " 202104: Timestamp('2021-01-24 00:00:00'),\n",
              " 202105: Timestamp('2021-01-31 00:00:00'),\n",
              " 202106: Timestamp('2021-02-07 00:00:00'),\n",
              " 202107: Timestamp('2021-02-14 00:00:00'),\n",
              " 202108: Timestamp('2021-02-21 00:00:00'),\n",
              " 202109: Timestamp('2021-02-28 00:00:00'),\n",
              " 202110: Timestamp('2021-03-07 00:00:00'),\n",
              " 202111: Timestamp('2021-03-14 00:00:00'),\n",
              " 202112: Timestamp('2021-03-21 00:00:00'),\n",
              " 202113: Timestamp('2021-03-28 00:00:00'),\n",
              " 202114: Timestamp('2021-04-04 00:00:00'),\n",
              " 202115: Timestamp('2021-04-11 00:00:00'),\n",
              " 202116: Timestamp('2021-04-18 00:00:00'),\n",
              " 202117: Timestamp('2021-04-25 00:00:00'),\n",
              " 202118: Timestamp('2021-05-02 00:00:00'),\n",
              " 202119: Timestamp('2021-05-09 00:00:00'),\n",
              " 202120: Timestamp('2021-05-16 00:00:00'),\n",
              " 202121: Timestamp('2021-05-23 00:00:00'),\n",
              " 202122: Timestamp('2021-05-30 00:00:00'),\n",
              " 202123: Timestamp('2021-06-06 00:00:00'),\n",
              " 202124: Timestamp('2021-06-13 00:00:00'),\n",
              " 202125: Timestamp('2021-06-20 00:00:00'),\n",
              " 202126: Timestamp('2021-06-27 00:00:00'),\n",
              " 202127: Timestamp('2021-07-04 00:00:00'),\n",
              " 202128: Timestamp('2021-07-11 00:00:00'),\n",
              " 202129: Timestamp('2021-07-18 00:00:00'),\n",
              " 202130: Timestamp('2021-07-25 00:00:00'),\n",
              " 202131: Timestamp('2021-08-01 00:00:00'),\n",
              " 202132: Timestamp('2021-08-08 00:00:00'),\n",
              " 202133: Timestamp('2021-08-15 00:00:00'),\n",
              " 202134: Timestamp('2021-08-22 00:00:00'),\n",
              " 202135: Timestamp('2021-08-29 00:00:00'),\n",
              " 202136: Timestamp('2021-09-05 00:00:00'),\n",
              " 202137: Timestamp('2021-09-12 00:00:00'),\n",
              " 202138: Timestamp('2021-09-19 00:00:00'),\n",
              " 202139: Timestamp('2021-09-26 00:00:00'),\n",
              " 202140: Timestamp('2021-10-03 00:00:00'),\n",
              " 202141: Timestamp('2021-10-10 00:00:00'),\n",
              " 202142: Timestamp('2021-10-17 00:00:00'),\n",
              " 202143: Timestamp('2021-10-24 00:00:00'),\n",
              " 202144: Timestamp('2021-10-31 00:00:00'),\n",
              " 202145: Timestamp('2021-11-07 00:00:00'),\n",
              " 202146: Timestamp('2021-11-14 00:00:00'),\n",
              " 202147: Timestamp('2021-11-21 00:00:00'),\n",
              " 202148: Timestamp('2021-11-28 00:00:00')}"
            ]
          },
          "metadata": {},
          "execution_count": 402
        }
      ]
    }
  ]
}