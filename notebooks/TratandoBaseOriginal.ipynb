{
  "nbformat": 4,
  "nbformat_minor": 0,
  "metadata": {
    "colab": {
      "name": "Untitled13.ipynb",
      "provenance": [],
      "authorship_tag": "ABX9TyP3MoN52UzqycipTgGv1fSW",
      "include_colab_link": true
    },
    "kernelspec": {
      "name": "python3",
      "display_name": "Python 3"
    },
    "language_info": {
      "name": "python"
    }
  },
  "cells": [
    {
      "cell_type": "markdown",
      "metadata": {
        "id": "view-in-github",
        "colab_type": "text"
      },
      "source": [
        "<a href=\"https://colab.research.google.com/github/ViniciusCastillo/BootcampAlura_ProjetoModulo3/blob/main/notebooks/TratandoBaseOriginal.ipynb\" target=\"_parent\"><img src=\"https://colab.research.google.com/assets/colab-badge.svg\" alt=\"Open In Colab\"/></a>"
      ]
    },
    {
      "cell_type": "markdown",
      "source": [
        "# Notebook para redução do tamanho da base que será utilizada\n",
        "## Manteremos os Estados e as cidades com mais de 1,5 milhões de habitantes\n",
        "### também decidi retirar o último mês (dezembro de 2021) da base, dado o risco de estar incompleto"
      ],
      "metadata": {
        "id": "Dg_Muqse6Mzf"
      }
    },
    {
      "cell_type": "code",
      "execution_count": 1,
      "metadata": {
        "id": "flpz8FqtZFtj"
      },
      "outputs": [],
      "source": [
        "import pandas as pd # importando o pandas\n",
        "pd.options.display.float_format = \"{:,.2f}\".format # definindo formato dos números"
      ]
    },
    {
      "cell_type": "markdown",
      "source": [
        "lendo os dados extraidos do [Brasil.io](https://brasil.io/dataset/covid19/caso_full/) no dia 30 de dezembro de 2021."
      ],
      "metadata": {
        "id": "etyalJY_6xfK"
      }
    },
    {
      "cell_type": "code",
      "source": [
        "dados = pd.read_csv('/content/caso_full.csv.gz', compression='gzip')"
      ],
      "metadata": {
        "id": "4j9PvT0dZYme"
      },
      "execution_count": 2,
      "outputs": []
    },
    {
      "cell_type": "code",
      "source": [
        "print(dados.shape) # conferindo o tamanho da base\n",
        "dados.head() # verificando os primeiros dados para entender as informações"
      ],
      "metadata": {
        "colab": {
          "base_uri": "https://localhost:8080/",
          "height": 374
        },
        "id": "zTpB7ncyZgSK",
        "outputId": "f38c49f2-8d12-4012-fab5-8c39559714c3"
      },
      "execution_count": 48,
      "outputs": [
        {
          "output_type": "stream",
          "name": "stdout",
          "text": [
            "(3359440, 18)\n"
          ]
        },
        {
          "output_type": "execute_result",
          "data": {
            "text/html": [
              "\n",
              "  <div id=\"df-c57da96c-dcbb-4658-8978-26eb6b01bef3\">\n",
              "    <div class=\"colab-df-container\">\n",
              "      <div>\n",
              "<style scoped>\n",
              "    .dataframe tbody tr th:only-of-type {\n",
              "        vertical-align: middle;\n",
              "    }\n",
              "\n",
              "    .dataframe tbody tr th {\n",
              "        vertical-align: top;\n",
              "    }\n",
              "\n",
              "    .dataframe thead th {\n",
              "        text-align: right;\n",
              "    }\n",
              "</style>\n",
              "<table border=\"1\" class=\"dataframe\">\n",
              "  <thead>\n",
              "    <tr style=\"text-align: right;\">\n",
              "      <th></th>\n",
              "      <th>city</th>\n",
              "      <th>city_ibge_code</th>\n",
              "      <th>date</th>\n",
              "      <th>epidemiological_week</th>\n",
              "      <th>estimated_population</th>\n",
              "      <th>estimated_population_2019</th>\n",
              "      <th>is_last</th>\n",
              "      <th>is_repeated</th>\n",
              "      <th>last_available_confirmed</th>\n",
              "      <th>last_available_confirmed_per_100k_inhabitants</th>\n",
              "      <th>last_available_date</th>\n",
              "      <th>last_available_death_rate</th>\n",
              "      <th>last_available_deaths</th>\n",
              "      <th>order_for_place</th>\n",
              "      <th>place_type</th>\n",
              "      <th>state</th>\n",
              "      <th>new_confirmed</th>\n",
              "      <th>new_deaths</th>\n",
              "    </tr>\n",
              "  </thead>\n",
              "  <tbody>\n",
              "    <tr>\n",
              "      <th>0</th>\n",
              "      <td>Rio Branco</td>\n",
              "      <td>1,200,401.00</td>\n",
              "      <td>2020-03-17</td>\n",
              "      <td>202012</td>\n",
              "      <td>413,418.00</td>\n",
              "      <td>407,319.00</td>\n",
              "      <td>False</td>\n",
              "      <td>False</td>\n",
              "      <td>3</td>\n",
              "      <td>0.73</td>\n",
              "      <td>2020-03-17</td>\n",
              "      <td>0.00</td>\n",
              "      <td>0</td>\n",
              "      <td>1</td>\n",
              "      <td>city</td>\n",
              "      <td>AC</td>\n",
              "      <td>3</td>\n",
              "      <td>0</td>\n",
              "    </tr>\n",
              "    <tr>\n",
              "      <th>1</th>\n",
              "      <td>NaN</td>\n",
              "      <td>12.00</td>\n",
              "      <td>2020-03-17</td>\n",
              "      <td>202012</td>\n",
              "      <td>894,470.00</td>\n",
              "      <td>881,935.00</td>\n",
              "      <td>False</td>\n",
              "      <td>False</td>\n",
              "      <td>3</td>\n",
              "      <td>0.34</td>\n",
              "      <td>2020-03-17</td>\n",
              "      <td>0.00</td>\n",
              "      <td>0</td>\n",
              "      <td>1</td>\n",
              "      <td>state</td>\n",
              "      <td>AC</td>\n",
              "      <td>3</td>\n",
              "      <td>0</td>\n",
              "    </tr>\n",
              "    <tr>\n",
              "      <th>2</th>\n",
              "      <td>Rio Branco</td>\n",
              "      <td>1,200,401.00</td>\n",
              "      <td>2020-03-18</td>\n",
              "      <td>202012</td>\n",
              "      <td>413,418.00</td>\n",
              "      <td>407,319.00</td>\n",
              "      <td>False</td>\n",
              "      <td>False</td>\n",
              "      <td>3</td>\n",
              "      <td>0.73</td>\n",
              "      <td>2020-03-18</td>\n",
              "      <td>0.00</td>\n",
              "      <td>0</td>\n",
              "      <td>2</td>\n",
              "      <td>city</td>\n",
              "      <td>AC</td>\n",
              "      <td>0</td>\n",
              "      <td>0</td>\n",
              "    </tr>\n",
              "    <tr>\n",
              "      <th>3</th>\n",
              "      <td>NaN</td>\n",
              "      <td>12.00</td>\n",
              "      <td>2020-03-18</td>\n",
              "      <td>202012</td>\n",
              "      <td>894,470.00</td>\n",
              "      <td>881,935.00</td>\n",
              "      <td>False</td>\n",
              "      <td>False</td>\n",
              "      <td>3</td>\n",
              "      <td>0.34</td>\n",
              "      <td>2020-03-18</td>\n",
              "      <td>0.00</td>\n",
              "      <td>0</td>\n",
              "      <td>2</td>\n",
              "      <td>state</td>\n",
              "      <td>AC</td>\n",
              "      <td>0</td>\n",
              "      <td>0</td>\n",
              "    </tr>\n",
              "    <tr>\n",
              "      <th>4</th>\n",
              "      <td>Rio Branco</td>\n",
              "      <td>1,200,401.00</td>\n",
              "      <td>2020-03-19</td>\n",
              "      <td>202012</td>\n",
              "      <td>413,418.00</td>\n",
              "      <td>407,319.00</td>\n",
              "      <td>False</td>\n",
              "      <td>False</td>\n",
              "      <td>4</td>\n",
              "      <td>0.97</td>\n",
              "      <td>2020-03-19</td>\n",
              "      <td>0.00</td>\n",
              "      <td>0</td>\n",
              "      <td>3</td>\n",
              "      <td>city</td>\n",
              "      <td>AC</td>\n",
              "      <td>1</td>\n",
              "      <td>0</td>\n",
              "    </tr>\n",
              "  </tbody>\n",
              "</table>\n",
              "</div>\n",
              "      <button class=\"colab-df-convert\" onclick=\"convertToInteractive('df-c57da96c-dcbb-4658-8978-26eb6b01bef3')\"\n",
              "              title=\"Convert this dataframe to an interactive table.\"\n",
              "              style=\"display:none;\">\n",
              "        \n",
              "  <svg xmlns=\"http://www.w3.org/2000/svg\" height=\"24px\"viewBox=\"0 0 24 24\"\n",
              "       width=\"24px\">\n",
              "    <path d=\"M0 0h24v24H0V0z\" fill=\"none\"/>\n",
              "    <path d=\"M18.56 5.44l.94 2.06.94-2.06 2.06-.94-2.06-.94-.94-2.06-.94 2.06-2.06.94zm-11 1L8.5 8.5l.94-2.06 2.06-.94-2.06-.94L8.5 2.5l-.94 2.06-2.06.94zm10 10l.94 2.06.94-2.06 2.06-.94-2.06-.94-.94-2.06-.94 2.06-2.06.94z\"/><path d=\"M17.41 7.96l-1.37-1.37c-.4-.4-.92-.59-1.43-.59-.52 0-1.04.2-1.43.59L10.3 9.45l-7.72 7.72c-.78.78-.78 2.05 0 2.83L4 21.41c.39.39.9.59 1.41.59.51 0 1.02-.2 1.41-.59l7.78-7.78 2.81-2.81c.8-.78.8-2.07 0-2.86zM5.41 20L4 18.59l7.72-7.72 1.47 1.35L5.41 20z\"/>\n",
              "  </svg>\n",
              "      </button>\n",
              "      \n",
              "  <style>\n",
              "    .colab-df-container {\n",
              "      display:flex;\n",
              "      flex-wrap:wrap;\n",
              "      gap: 12px;\n",
              "    }\n",
              "\n",
              "    .colab-df-convert {\n",
              "      background-color: #E8F0FE;\n",
              "      border: none;\n",
              "      border-radius: 50%;\n",
              "      cursor: pointer;\n",
              "      display: none;\n",
              "      fill: #1967D2;\n",
              "      height: 32px;\n",
              "      padding: 0 0 0 0;\n",
              "      width: 32px;\n",
              "    }\n",
              "\n",
              "    .colab-df-convert:hover {\n",
              "      background-color: #E2EBFA;\n",
              "      box-shadow: 0px 1px 2px rgba(60, 64, 67, 0.3), 0px 1px 3px 1px rgba(60, 64, 67, 0.15);\n",
              "      fill: #174EA6;\n",
              "    }\n",
              "\n",
              "    [theme=dark] .colab-df-convert {\n",
              "      background-color: #3B4455;\n",
              "      fill: #D2E3FC;\n",
              "    }\n",
              "\n",
              "    [theme=dark] .colab-df-convert:hover {\n",
              "      background-color: #434B5C;\n",
              "      box-shadow: 0px 1px 3px 1px rgba(0, 0, 0, 0.15);\n",
              "      filter: drop-shadow(0px 1px 2px rgba(0, 0, 0, 0.3));\n",
              "      fill: #FFFFFF;\n",
              "    }\n",
              "  </style>\n",
              "\n",
              "      <script>\n",
              "        const buttonEl =\n",
              "          document.querySelector('#df-c57da96c-dcbb-4658-8978-26eb6b01bef3 button.colab-df-convert');\n",
              "        buttonEl.style.display =\n",
              "          google.colab.kernel.accessAllowed ? 'block' : 'none';\n",
              "\n",
              "        async function convertToInteractive(key) {\n",
              "          const element = document.querySelector('#df-c57da96c-dcbb-4658-8978-26eb6b01bef3');\n",
              "          const dataTable =\n",
              "            await google.colab.kernel.invokeFunction('convertToInteractive',\n",
              "                                                     [key], {});\n",
              "          if (!dataTable) return;\n",
              "\n",
              "          const docLinkHtml = 'Like what you see? Visit the ' +\n",
              "            '<a target=\"_blank\" href=https://colab.research.google.com/notebooks/data_table.ipynb>data table notebook</a>'\n",
              "            + ' to learn more about interactive tables.';\n",
              "          element.innerHTML = '';\n",
              "          dataTable['output_type'] = 'display_data';\n",
              "          await google.colab.output.renderOutput(dataTable, element);\n",
              "          const docLink = document.createElement('div');\n",
              "          docLink.innerHTML = docLinkHtml;\n",
              "          element.appendChild(docLink);\n",
              "        }\n",
              "      </script>\n",
              "    </div>\n",
              "  </div>\n",
              "  "
            ],
            "text/plain": [
              "         city  city_ibge_code        date  ...  state  new_confirmed  new_deaths\n",
              "0  Rio Branco    1,200,401.00  2020-03-17  ...     AC              3           0\n",
              "1         NaN           12.00  2020-03-17  ...     AC              3           0\n",
              "2  Rio Branco    1,200,401.00  2020-03-18  ...     AC              0           0\n",
              "3         NaN           12.00  2020-03-18  ...     AC              0           0\n",
              "4  Rio Branco    1,200,401.00  2020-03-19  ...     AC              1           0\n",
              "\n",
              "[5 rows x 18 columns]"
            ]
          },
          "metadata": {},
          "execution_count": 48
        }
      ]
    },
    {
      "cell_type": "markdown",
      "source": [
        "Para reduzir o tamanho da base decidi manter apenas as maiores cidades do Brasil, escolhi 1,5 milhões de habitantes que por coincidencia deu um número de 10 cidades. \n",
        "\n",
        "Decidi também manter a informação consolidada dos estados, para ter uma informação total caso eu queira avaliar."
      ],
      "metadata": {
        "id": "4vbAoxOk9nyQ"
      }
    },
    {
      "cell_type": "code",
      "source": [
        "# criando a lista das cidades com mais do que 1,5 milhão de habitantes\n",
        "cidades = dados[['city','estimated_population']].query('estimated_population > 1500000').groupby(by='city').mean()\n",
        "lista_cidades = list(cidades.index.values)\n",
        "lista_cidades"
      ],
      "metadata": {
        "colab": {
          "base_uri": "https://localhost:8080/"
        },
        "id": "H9e6c4Nmg6in",
        "outputId": "ddfbe151-fe9c-4057-d06d-a23c1ff88d77"
      },
      "execution_count": 53,
      "outputs": [
        {
          "output_type": "execute_result",
          "data": {
            "text/plain": [
              "['Belo Horizonte',\n",
              " 'Brasília',\n",
              " 'Curitiba',\n",
              " 'Fortaleza',\n",
              " 'Goiânia',\n",
              " 'Manaus',\n",
              " 'Recife',\n",
              " 'Rio de Janeiro',\n",
              " 'Salvador',\n",
              " 'São Paulo']"
            ]
          },
          "metadata": {},
          "execution_count": 53
        }
      ]
    },
    {
      "cell_type": "code",
      "source": [
        "# criando a base filtrando a visão consolidada dos estados e as cidades selecionadas anteriormente\n",
        "dados_saida = dados.query('place_type == \"state\" or city in @lista_cidades')\n",
        "dados_saida.info()"
      ],
      "metadata": {
        "colab": {
          "base_uri": "https://localhost:8080/"
        },
        "id": "GrBjgCYixxHQ",
        "outputId": "2dc56ad5-5144-4191-9ef0-dca8db66187d"
      },
      "execution_count": 60,
      "outputs": [
        {
          "output_type": "stream",
          "name": "stdout",
          "text": [
            "<class 'pandas.core.frame.DataFrame'>\n",
            "Int64Index: 24340 entries, 1 to 3359439\n",
            "Data columns (total 18 columns):\n",
            " #   Column                                         Non-Null Count  Dtype  \n",
            "---  ------                                         --------------  -----  \n",
            " 0   city                                           6597 non-null   object \n",
            " 1   city_ibge_code                                 24340 non-null  float64\n",
            " 2   date                                           24340 non-null  object \n",
            " 3   epidemiological_week                           24340 non-null  int64  \n",
            " 4   estimated_population                           24340 non-null  float64\n",
            " 5   estimated_population_2019                      24340 non-null  float64\n",
            " 6   is_last                                        24340 non-null  bool   \n",
            " 7   is_repeated                                    24340 non-null  bool   \n",
            " 8   last_available_confirmed                       24340 non-null  int64  \n",
            " 9   last_available_confirmed_per_100k_inhabitants  24334 non-null  float64\n",
            " 10  last_available_date                            24340 non-null  object \n",
            " 11  last_available_death_rate                      24340 non-null  float64\n",
            " 12  last_available_deaths                          24340 non-null  int64  \n",
            " 13  order_for_place                                24340 non-null  int64  \n",
            " 14  place_type                                     24340 non-null  object \n",
            " 15  state                                          24340 non-null  object \n",
            " 16  new_confirmed                                  24340 non-null  int64  \n",
            " 17  new_deaths                                     24340 non-null  int64  \n",
            "dtypes: bool(2), float64(5), int64(6), object(5)\n",
            "memory usage: 3.2+ MB\n"
          ]
        }
      ]
    },
    {
      "cell_type": "markdown",
      "source": [
        "como sei que tivemos problemas com os dados sobre covid no mês de dezembro ([Sem dados de 4 estados, Brasil registra 173 mortes por Covid em 24 horas; sistemas seguem com problema pelo 7º dia após ataque hacker](https://g1.globo.com/saude/coronavirus/noticia/2021/12/16/sem-dados-de-5-estados-brasil-registra-173-mortes-por-covid-em-24-horas-sistemas-seguem-com-problema-uma-semana-apos-ataque-hacker.ghtml) - G1) e também sabemos que os últimos dias costumam ter problemas de informação que costumam ser completadas nos dias seguintes, decidi retirar o mês de dezembor da base. Com isso, a base só terá informações até novembro de 2021."
      ],
      "metadata": {
        "id": "wzLZOPZ782TO"
      }
    },
    {
      "cell_type": "code",
      "source": [
        "# transformando o campo 'date' para o formato de data \n",
        "dados_saida['date'] = pd.to_datetime(dados_saida[\"date\"])\n",
        "dados_saida.info()"
      ],
      "metadata": {
        "colab": {
          "base_uri": "https://localhost:8080/"
        },
        "id": "zTjugnK4zw8b",
        "outputId": "ee53827e-9bf9-44dc-a253-b1f9d5150b85"
      },
      "execution_count": 61,
      "outputs": [
        {
          "output_type": "stream",
          "name": "stdout",
          "text": [
            "<class 'pandas.core.frame.DataFrame'>\n",
            "Int64Index: 24340 entries, 1 to 3359439\n",
            "Data columns (total 18 columns):\n",
            " #   Column                                         Non-Null Count  Dtype         \n",
            "---  ------                                         --------------  -----         \n",
            " 0   city                                           6597 non-null   object        \n",
            " 1   city_ibge_code                                 24340 non-null  float64       \n",
            " 2   date                                           24340 non-null  datetime64[ns]\n",
            " 3   epidemiological_week                           24340 non-null  int64         \n",
            " 4   estimated_population                           24340 non-null  float64       \n",
            " 5   estimated_population_2019                      24340 non-null  float64       \n",
            " 6   is_last                                        24340 non-null  bool          \n",
            " 7   is_repeated                                    24340 non-null  bool          \n",
            " 8   last_available_confirmed                       24340 non-null  int64         \n",
            " 9   last_available_confirmed_per_100k_inhabitants  24334 non-null  float64       \n",
            " 10  last_available_date                            24340 non-null  object        \n",
            " 11  last_available_death_rate                      24340 non-null  float64       \n",
            " 12  last_available_deaths                          24340 non-null  int64         \n",
            " 13  order_for_place                                24340 non-null  int64         \n",
            " 14  place_type                                     24340 non-null  object        \n",
            " 15  state                                          24340 non-null  object        \n",
            " 16  new_confirmed                                  24340 non-null  int64         \n",
            " 17  new_deaths                                     24340 non-null  int64         \n",
            "dtypes: bool(2), datetime64[ns](1), float64(5), int64(6), object(4)\n",
            "memory usage: 3.2+ MB\n"
          ]
        },
        {
          "output_type": "stream",
          "name": "stderr",
          "text": [
            "/usr/local/lib/python3.7/dist-packages/ipykernel_launcher.py:1: SettingWithCopyWarning: \n",
            "A value is trying to be set on a copy of a slice from a DataFrame.\n",
            "Try using .loc[row_indexer,col_indexer] = value instead\n",
            "\n",
            "See the caveats in the documentation: https://pandas.pydata.org/pandas-docs/stable/user_guide/indexing.html#returning-a-view-versus-a-copy\n",
            "  \"\"\"Entry point for launching an IPython kernel.\n"
          ]
        }
      ]
    },
    {
      "cell_type": "code",
      "source": [
        "# filtrando as datas, retirando o mês de dezembro\n",
        "dados_saida = dados_saida.query(\"date < '2021-12-01'\")\n",
        "print(dados_saida.shape) # conferindo o tamanho final da base"
      ],
      "metadata": {
        "colab": {
          "base_uri": "https://localhost:8080/"
        },
        "id": "5a6j-INx_mds",
        "outputId": "65c0b119-2bb2-4ca8-a4f5-d5fc7a2d991d"
      },
      "execution_count": 72,
      "outputs": [
        {
          "output_type": "stream",
          "name": "stdout",
          "text": [
            "(23267, 18)\n"
          ]
        }
      ]
    },
    {
      "cell_type": "code",
      "source": [
        "dados_saida.to_csv('/content/dados_covid.csv', index=False)"
      ],
      "metadata": {
        "id": "zgiMXwkV4JS2"
      },
      "execution_count": 70,
      "outputs": []
    }
  ]
}