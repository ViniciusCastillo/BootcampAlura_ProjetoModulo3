{
  "nbformat": 4,
  "nbformat_minor": 0,
  "metadata": {
    "colab": {
      "name": "Untitled12.ipynb",
      "provenance": [],
      "authorship_tag": "ABX9TyOZL3IvpmdaHaIfJJ43NgyR",
      "include_colab_link": true
    },
    "kernelspec": {
      "name": "python3",
      "display_name": "Python 3"
    },
    "language_info": {
      "name": "python"
    }
  },
  "cells": [
    {
      "cell_type": "markdown",
      "metadata": {
        "id": "view-in-github",
        "colab_type": "text"
      },
      "source": [
        "<a href=\"https://colab.research.google.com/github/ViniciusCastillo/BootcampAlura_ProjetoModulo3/blob/main/Notebooks%5Cfuncoes%26bases.ipynb\" target=\"_parent\"><img src=\"https://colab.research.google.com/assets/colab-badge.svg\" alt=\"Open In Colab\"/></a>"
      ]
    },
    {
      "cell_type": "markdown",
      "source": [
        "# Criação de Funções, Importação e Tratamento Inicial dos Dados\n",
        "\n",
        "Neste notebook temos as funções que serão utilizadas na análise, bem como imporatermos os dados, fazer um pré processamento para facilitar a análise no notebook principal do projeto"
      ],
      "metadata": {
        "id": "M_JPr3gnhBms"
      }
    },
    {
      "cell_type": "markdown",
      "source": [
        "## Importanto bibliotecas que serão utilizadas"
      ],
      "metadata": {
        "id": "PTD5X7oFhq2S"
      }
    },
    {
      "cell_type": "code",
      "execution_count": 1,
      "metadata": {
        "id": "keuezqRpfnNg"
      },
      "outputs": [],
      "source": [
        "import pandas as pd\n",
        "import numpy as np\n",
        "import matplotlib as mpl\n",
        "import matplotlib.pyplot as plt\n",
        "from sklearn.metrics import mean_absolute_error\n",
        "from sklearn.metrics import mean_squared_error\n",
        "from sklearn.metrics import mean_absolute_percentage_error\n",
        "from fbprophet import Prophet\n",
        "from fbprophet.plot import add_changepoints_to_plot\n",
        "from fbprophet.diagnostics import cross_validation\n",
        "from fbprophet.diagnostics import performance_metrics\n",
        "from fbprophet.plot import plot_cross_validation_metric"
      ]
    },
    {
      "cell_type": "markdown",
      "source": [
        "## Funções"
      ],
      "metadata": {
        "id": "8muGuDuqhs7A"
      }
    },
    {
      "cell_type": "markdown",
      "source": [
        "### Função <font color='blue'>metricas</font><font size=3>(df_real, df_previsto, titulo)</font>\n",
        "####Cálcula as métricas de comparação entre o dataframe real e o previsto"
      ],
      "metadata": {
        "id": "m0ao9lP9h5MJ"
      }
    },
    {
      "cell_type": "markdown",
      "source": [
        "##### **Entradas e Saídas**\n",
        "\n",
        "Informações de entrada:\n",
        "* <font color='green'>df_real</font>: data frame real\n",
        "* <font color='green'>df_previsto</font>: data frame previsto\n",
        "* <font color='green'>titulo</font>: titulo da comparação que será realizada\n",
        "\n",
        "Saídas:\n",
        "* Printa o <font color='green'>título</font> da comparação, depois o resultado de 3 métricas:\n",
        "> 1. **MAE**: Mean Absolute Error\n",
        "> 1. **RMSE**: Root Mean Squared Error\n",
        "> 1. **MAPE**: Mean Absolute Percentage Error\n",
        "\n",
        "* Está função não retorna nenhum valor"
      ],
      "metadata": {
        "id": "_xgW35MLjteV"
      }
    },
    {
      "cell_type": "code",
      "source": [
        "def metricas (df_real, df_previsto, titulo):\n",
        "  print (\"\\n\"+ titulo)\n",
        "  print (\"Mean Absolute Error: %.2f\" % mean_absolute_error(df_real['y'], df_previsto['yhat']))\n",
        "  print (\"Root Mean Squared Error: {:,.2f}\".format(mean_squared_error(df_real['y'], df_previsto['yhat'])))\n",
        "  print (\"Mean Absolute Percentage Error: {:,.2f}\".format(mean_absolute_percentage_error(df_real['y'], df_previsto['yhat'])))"
      ],
      "metadata": {
        "id": "0l9Q6xhtgkbN"
      },
      "execution_count": 2,
      "outputs": []
    },
    {
      "cell_type": "markdown",
      "source": [
        "### Função <font color='blue'>cria_DFs</font><font size=3>(dados, campo_y, inicio_teste, inicio_treino=<font color='yellow'>0</font>, campo_data=<font color='yellow'>'datahora'</font>)</font>\n",
        "#### Divide uma base da dados entre uma base de treino e outra base de teste para criação de modelos preditivos, já no padrão do Facebook Prophet"
      ],
      "metadata": {
        "id": "fgOCRvZnjzUq"
      }
    },
    {
      "cell_type": "markdown",
      "source": [
        "##### **Entradas e Saídas**\n",
        "\n",
        "Informações de entrada:\n",
        "* <font color='green'>dados</font>: data frame que será dividido\n",
        "* <font color='green'>campo_y</font>: campo do data frame que será utilizado como a varável ***'y'*** do modelo preditivo do Prophet\n",
        "* <font color='green'>inicio_teste</font>: valor do registro inicial para a base de teste, consequentemente será utilizado como o fim da base de treino\n",
        "* <font color='green'>inicio_treino</font>: valor do registro inicial para a base de treino, por padrão tem o valor <font color='yellow'>0</font>\n",
        "* <font color='green'>campo_data</font>: campo do data frame que possuí a data e que será utilizado na varável ***'ds'*** do modelo preditivo do Prophet, por padrão tem o valor <font color='yellow'>'datahora'</font>\n",
        "\n",
        "Saídas:\n",
        "* Esta função retorna 2 informações:\n",
        "> 1. <font color='purple'>df_treino</font>: data frame de treino\n",
        "> 1. <font color='purple'>df_teste</font>: data fram de teste\n",
        "* Estes data frames retornados estão com o seu index resetado\n",
        "* Precisa ser atribuida para uma dupla de variáveis, por exemplo: *df_treino, df_teste = cria_DFs(dados, campo_y, inicio_teste)*"
      ],
      "metadata": {
        "id": "kd9349k2lboo"
      }
    },
    {
      "cell_type": "code",
      "source": [
        "def cria_DFs (dados, campo_y, inicio_teste, inicio_treino=0, campo_data='datahora'):\n",
        "  df_teste = pd.DataFrame()\n",
        "  # a base de teste será sempre do início enviado até o final da base de dados\n",
        "  df_teste['ds'] = dados[campo_data][inicio_teste:]\n",
        "  df_teste['y'] = dados[campo_y][inicio_teste:]\n",
        "  df_teste = df_teste.reset_index(drop=True)\n",
        "  df_treino = pd.DataFrame()\n",
        "  # a base de treino terá como fim o início do teste enviado\n",
        "  df_treino['ds'] = dados[campo_data][inicio_treino:inicio_teste]\n",
        "  df_treino['y'] = dados[campo_y][inicio_treino:inicio_teste]\n",
        "  df_treino = df_treino.reset_index(drop=True)\n",
        "  return df_treino, df_teste"
      ],
      "metadata": {
        "id": "uK11GWiCg-c8"
      },
      "execution_count": 5,
      "outputs": []
    },
    {
      "cell_type": "markdown",
      "source": [
        "### Função <font color='blue'>modelar</font><font size=3>(df_treino, df_teste, y_label, show_change_points=<font color='yellow'>False</font>, **todos os parâmetros da função Prophet da biblioteca Facebook Prophet)</font>\n",
        "#### Cria o modelo preditivo da biblioteca Facebook Prophet, retorna o modelo e a base de previsão. Fora isso, exibe o gráfico do modelo, incluindo a comparação com a base de teste"
      ],
      "metadata": {
        "id": "aIgY7XGHla3S"
      }
    },
    {
      "cell_type": "markdown",
      "source": [
        "##### **Entradas e Saídas**\n",
        "\n",
        "Informações de entrada:\n",
        "* <font color='green'>df_treino</font>: data frame que será utilizado para trienar o modelo. **Obersevação**: lembrar que o se o parâmetro *growth* for alterado para *'logistic'* é necessário incluir o campo *'cap'<font size=1><sup>(1)</sup></font>* neste data frame antes de chamar esta função\n",
        "* <font color='green'>df_teste</font>: data frame que será plotado como comparação para a projeção\n",
        "* <font color='green'>y_label</font>: valor que será plotado como título do eixo Y do gráfico\n",
        "* <font color='green'>show_change_points</font>: se passar o valor <font color='grey'>**True**</font> plota os change points no gráfico, por padrão o valor é <font color='yellow'>False</font>\n",
        "* <font color='green'>** parâmetros do Prophet</font>: pode-se passar qualquer parâmentro da função Prophet da biblioteca Facebook Prophet\n",
        "\n",
        "<font size=2> <font size=1><sup>(1)</sup></font> *'cap' é a definição do valor máximo esperado na função logística e precisa ter valor em todas as linhas do data frame. [Link para página do Prophet sobre isso](https://facebook.github.io/prophet/docs/saturating_forecasts.html#forecasting-growth)*</font>\n",
        "\n",
        "Saídas:\n",
        "* Esta função retorna 2 informações:\n",
        "> 1. <font color='purple'>modelo</font>: o modelo calculado pelo Prophet\n",
        "> 1. <font color='purple'>previsao</font>: a base de previsão calculada pelo Prophet. Vale destacar que os dados futuros terão o mesmo tamanho que o <font color='green'>df_teste</font> que foi passado\n",
        "* Ela também plota o gráfico do modelo previsto (<font color='purple'>previsao</font> como uma linha azul), bem como as informações reais, tanto do <font color='green'>df_treino</font> (linha cinza) quanto <font color='green'>df_teste</font> (linha laranja), para comparação visual\n",
        "* Caso tenha optado pela opção de mostrar os change points, eles irão aparecer no gráfico também"
      ],
      "metadata": {
        "id": "y-PS3gI3qUmf"
      }
    },
    {
      "cell_type": "code",
      "source": [
        "def modelar (df_treino, df_teste, y_label, show_change_points=False, growth='linear', changepoints=None, n_changepoints=25, changepoint_range=0.8, \n",
        "             yearly_seasonality='auto', weekly_seasonality='auto', daily_seasonality='auto', holidays=None, seasonality_mode='additive', \n",
        "             seasonality_prior_scale=10.0, holidays_prior_scale=10.0, changepoint_prior_scale=0.05, mcmc_samples=0, interval_width=0.8, \n",
        "             uncertainty_samples=1000, stan_backend=None):\n",
        "  # cria o modelo com os parâmetros escolhidos\n",
        "  modelo = Prophet(growth, changepoints, n_changepoints, changepoint_range, yearly_seasonality, weekly_seasonality, daily_seasonality, \n",
        "                   holidays, seasonality_mode, seasonality_prior_scale, holidays_prior_scale, changepoint_prior_scale, mcmc_samples, \n",
        "                   interval_width, uncertainty_samples, stan_backend)\n",
        "  # treina o modelo com o df_treino\n",
        "  modelo.fit(df_treino)\n",
        "  # cria o df para previsão futura do mesmo tamanho que o df_teste\n",
        "  df_futuro = modelo.make_future_dataframe(periods=len(df_teste))\n",
        "  # se estiver projetando um modelo logístico, inclui o 'cap' no df_futuro\n",
        "  if growth=='logistic': df_futuro['cap'] = df_treino['cap'].iloc[0];\n",
        "  # preve os pontos futuros com base no modelo treinado anteriormente\n",
        "  previsao = modelo.predict(df_futuro)\n",
        "  # plota a previsão, onde o nome do eixo y é igual ao que foi passado na função\n",
        "  fig = modelo.plot(previsao, xlabel='Data', ylabel=y_label, figsize=(15,8))\n",
        "  # se estiver definido show_change_points como True, plota os change points\n",
        "  if show_change_points: a = add_changepoints_to_plot(fig.gca(), modelo, previsao);\n",
        "  # plota o df_teste como uma linha pontilhada laranja\n",
        "  plt.plot(df_teste.ds, df_teste.y, ':', marker='.', color='orange')\n",
        "  # plota o df_treino como uma linha pontilhada cinza\n",
        "  plt.plot(df_treino.ds, df_treino.y, ':', color=\"grey\")\n",
        "  # plt.xticks(color='black')\n",
        "  # plt.yticks(color='black')\n",
        "  return modelo, previsao # retorna as informações do modelo que foi treinado e o df da previsão criada"
      ],
      "metadata": {
        "id": "O57mp0cJg4Vx"
      },
      "execution_count": 8,
      "outputs": []
    },
    {
      "cell_type": "markdown",
      "source": [
        "## Bases"
      ],
      "metadata": {
        "id": "04DGgzqQEujv"
      }
    },
    {
      "cell_type": "markdown",
      "source": [
        "### lista de feriados"
      ],
      "metadata": {
        "id": "rj8giBL2HGmM"
      }
    },
    {
      "cell_type": "markdown",
      "source": [
        "#### lista de feriados da cidade de São Paulo de 2020"
      ],
      "metadata": {
        "id": "hvxbgsFnHqy1"
      }
    },
    {
      "cell_type": "code",
      "source": [
        "feriados_sp_2020 = [\n",
        "'2020-02-25',\n",
        "'2020-02-26',\n",
        "'2020-04-10',\n",
        "'2020-02-25',\n",
        "'2020-02-26',\n",
        "'2020-04-10',\n",
        "'2020-04-21',\n",
        "'2020-05-01',\n",
        "'2020-05-20',\n",
        "'2020-05-21', \n",
        "'2020-05-22',\n",
        "'2020-05-25',\n",
        "'2020-06-11',\n",
        "'2020-09-07',\n",
        "'2020-10-12',\n",
        "'2020-11-02',\n",
        "'2020-11-15',\n",
        "'2020-12-25'\n",
        "]"
      ],
      "metadata": {
        "id": "5Eb4wtUL0iXd"
      },
      "execution_count": 10,
      "outputs": []
    },
    {
      "cell_type": "code",
      "source": [
        "feriados_sp_2020 = pd.DataFrame({\n",
        "  'holiday': 'sp_2020',\n",
        "  'ds': pd.to_datetime(feriados_sp_2020)\n",
        "})"
      ],
      "metadata": {
        "id": "9ZoYpyB7IDMU"
      },
      "execution_count": 11,
      "outputs": []
    },
    {
      "cell_type": "markdown",
      "source": [
        "#### lista de feriados da cidade de São Paulo de 2021"
      ],
      "metadata": {
        "id": "fe8fw1uQH3fK"
      }
    },
    {
      "cell_type": "code",
      "source": [
        "feriados_sp_2021 = [\n",
        "'2021-01-01',\n",
        "'2021-01-25',\n",
        "'2021-02-15',\n",
        "'2021-02-16',\n",
        "'2021-02-17',\n",
        "'2021-03-26',\n",
        "'2021-03-29',\n",
        "'2021-03-30',\n",
        "'2021-03-31',\n",
        "'2021-04-01',\n",
        "'2021-04-02',\n",
        "'2021-04-21',\n",
        "'2021-05-01',\n",
        "'2021-06-03',\n",
        "'2021-07-09',\n",
        "'2021-09-07',\n",
        "'2021-10-12',\n",
        "'2021-11-02',\n",
        "'2021-11-15',\n",
        "'2021-12-25'\n",
        "]"
      ],
      "metadata": {
        "id": "uzFh-5LuHj-k"
      },
      "execution_count": 22,
      "outputs": []
    },
    {
      "cell_type": "code",
      "source": [
        "feriados_sp_2021 = pd.DataFrame({\n",
        "  'holiday': 'sp_2021',\n",
        "  'ds': pd.to_datetime(feriados_sp_2021)\n",
        "})\n"
      ],
      "metadata": {
        "id": "bsWb1cflIHhW"
      },
      "execution_count": 23,
      "outputs": []
    },
    {
      "cell_type": "markdown",
      "source": [
        "#### lista consolida de feriados da cidade de São Paulo 2020 e 2021"
      ],
      "metadata": {
        "id": "uSjsRez1IIdN"
      }
    },
    {
      "cell_type": "code",
      "source": [
        "feriados_sp = pd.concat((feriados_sp_2020, feriados_sp_2021))\n",
        "print(feriados_sp.head())\n",
        "print(feriados_sp.tail())"
      ],
      "metadata": {
        "colab": {
          "base_uri": "https://localhost:8080/"
        },
        "id": "wTLGO-SfHbj5",
        "outputId": "dda37280-07d5-4995-8c77-3e7ca649e7c4"
      },
      "execution_count": 24,
      "outputs": [
        {
          "output_type": "stream",
          "name": "stdout",
          "text": [
            "   holiday         ds\n",
            "0  sp_2020 2020-02-25\n",
            "1  sp_2020 2020-02-26\n",
            "2  sp_2020 2020-04-10\n",
            "3  sp_2020 2020-02-25\n",
            "4  sp_2020 2020-02-26\n",
            "    holiday         ds\n",
            "15  sp_2021 2021-09-07\n",
            "16  sp_2021 2021-10-12\n",
            "17  sp_2021 2021-11-02\n",
            "18  sp_2021 2021-11-15\n",
            "19  sp_2021 2021-12-25\n"
          ]
        }
      ]
    },
    {
      "cell_type": "markdown",
      "source": [
        "### dados de covid Brasil.io"
      ],
      "metadata": {
        "id": "PW3UL6a6MDIY"
      }
    },
    {
      "cell_type": "code",
      "source": [
        ""
      ],
      "metadata": {
        "id": "sqjInjqFHgCm"
      },
      "execution_count": null,
      "outputs": []
    }
  ]
}